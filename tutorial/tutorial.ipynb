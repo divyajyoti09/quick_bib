{
 "cells": [
  {
   "cell_type": "code",
   "execution_count": 1,
   "id": "190343a6",
   "metadata": {},
   "outputs": [],
   "source": [
    "import quick_bib as qb"
   ]
  },
  {
   "cell_type": "markdown",
   "id": "3c6602d2",
   "metadata": {},
   "source": [
    "### Check for duplicates in a bib file"
   ]
  },
  {
   "cell_type": "code",
   "execution_count": 2,
   "id": "20e5eff6",
   "metadata": {
    "scrolled": true
   },
   "outputs": [
    {
     "name": "stdout",
     "output_type": "stream",
     "text": [
      "No duplicates found.\n",
      "There are no duplicate entries in file.\n"
     ]
    }
   ],
   "source": [
    "qb.check_if_repeats_in_file('refs1.bib')"
   ]
  },
  {
   "cell_type": "code",
   "execution_count": 3,
   "id": "72176925",
   "metadata": {},
   "outputs": [
    {
     "name": "stdout",
     "output_type": "stream",
     "text": [
      "The duplicates are:\n"
     ]
    },
    {
     "data": {
      "text/plain": [
       "({'10.1103/PhysRevD.103.104021': ['PhysRevD.103.104021', 'Nagar:2021gss'],\n",
       "  '10.1103/PhysRevD.103.064022': ['PhysRevD.103.064022', 'Islam:2021mha']},\n",
       " {})"
      ]
     },
     "execution_count": 3,
     "metadata": {},
     "output_type": "execute_result"
    }
   ],
   "source": [
    "qb.check_if_repeats_in_file('refs2.bib')"
   ]
  },
  {
   "cell_type": "markdown",
   "id": "3673daf3",
   "metadata": {},
   "source": [
    "### Remove duplicates from file and create new"
   ]
  },
  {
   "cell_type": "code",
   "execution_count": 4,
   "id": "12c9f70d",
   "metadata": {},
   "outputs": [],
   "source": [
    "qb.remove_repeats_from_file_to_new('refs3.bib', 'refs2.bib')"
   ]
  },
  {
   "cell_type": "markdown",
   "id": "130be343",
   "metadata": {},
   "source": [
    "### Merge two bib files to create a master bib"
   ]
  },
  {
   "cell_type": "code",
   "execution_count": 5,
   "id": "754dac18",
   "metadata": {},
   "outputs": [
    {
     "name": "stdout",
     "output_type": "stream",
     "text": [
      "No duplicates found.\n",
      "Checking for duplicates in database 1...\n",
      "No duplicates found.\n",
      "Checking for duplicates in database 2...\n",
      "No duplicates found.\n",
      "\n",
      "\n",
      "Checking for repeats between databases...\n",
      "Done\n"
     ]
    }
   ],
   "source": [
    "qb.merge_two_files_to_new('master.bib', 'refs1.bib', 'refs2.bib')"
   ]
  },
  {
   "cell_type": "markdown",
   "id": "53e89314",
   "metadata": {},
   "source": [
    "### Append an entry to master file"
   ]
  },
  {
   "cell_type": "code",
   "execution_count": 7,
   "id": "4f812e56",
   "metadata": {},
   "outputs": [
    {
     "name": "stdout",
     "output_type": "stream",
     "text": [
      "No duplicates found.\n",
      "No duplicates found.\n",
      "No duplicate arxiv IDs found.\n",
      "No duplicate DOIs found.\n"
     ]
    }
   ],
   "source": [
    "qb.append_file_to_master('master.bib', 'entry.bib')"
   ]
  },
  {
   "cell_type": "code",
   "execution_count": null,
   "id": "6956dafb",
   "metadata": {},
   "outputs": [],
   "source": []
  }
 ],
 "metadata": {
  "kernelspec": {
   "display_name": "easy_bib_11Jan23",
   "language": "python",
   "name": "easy_bib_11jan23"
  },
  "language_info": {
   "codemirror_mode": {
    "name": "ipython",
    "version": 3
   },
   "file_extension": ".py",
   "mimetype": "text/x-python",
   "name": "python",
   "nbconvert_exporter": "python",
   "pygments_lexer": "ipython3",
   "version": "3.9.15"
  }
 },
 "nbformat": 4,
 "nbformat_minor": 5
}
